{
 "metadata": {
  "kernelspec": {
   "language": "python",
   "display_name": "Python 3",
   "name": "python3"
  },
  "language_info": {
   "name": "python",
   "version": "3.7.12",
   "mimetype": "text/x-python",
   "codemirror_mode": {
    "name": "ipython",
    "version": 3
   },
   "pygments_lexer": "ipython3",
   "nbconvert_exporter": "python",
   "file_extension": ".py"
  }
 },
 "nbformat_minor": 4,
 "nbformat": 4,
 "cells": [
  {
   "cell_type": "code",
   "source": [
    "# This Python 3 environment comes with many helpful analytics libraries installed\n",
    "# It is defined by the kaggle/python Docker image: https://github.com/kaggle/docker-python\n",
    "# For example, here's several helpful packages to load\n",
    "\n",
    "import numpy as np # linear algebra\n",
    "import pandas as pd # data processing, CSV file I/O (e.g. pd.read_csv)\n",
    "\n",
    "# Input data files are available in the read-only \"../input/\" directory\n",
    "# For example, running this (by clicking run or pressing Shift+Enter) will list all files under the input directory\n",
    "\n",
    "import os\n",
    "for dirname, _, filenames in os.walk('/kaggle/input'):\n",
    "    for filename in filenames:\n",
    "        print(os.path.join(dirname, filename))\n",
    "\n",
    "# You can write up to 20GB to the current directory (/kaggle/working/) that gets preserved as output when you create a version using \"Save & Run All\" \n",
    "# You can also write temporary files to /kaggle/temp/, but they won't be saved outside of the current session"
   ],
   "metadata": {
    "_uuid": "8f2839f25d086af736a60e9eeb907d3b93b6e0e5",
    "_cell_guid": "b1076dfc-b9ad-4769-8c92-a6c4dae69d19",
    "execution": {
     "iopub.status.busy": "2023-02-16T08:18:42.547860Z",
     "iopub.execute_input": "2023-02-16T08:18:42.548703Z",
     "iopub.status.idle": "2023-02-16T08:18:42.582883Z",
     "shell.execute_reply.started": "2023-02-16T08:18:42.548620Z",
     "shell.execute_reply": "2023-02-16T08:18:42.581906Z"
    },
    "trusted": true
   },
   "execution_count": 1,
   "outputs": [
    {
     "name": "stdout",
     "text": "/kaggle/input/temp05/yolov7custom.yaml\n/kaggle/input/temp05/classes.names\n",
     "output_type": "stream"
    }
   ]
  },
  {
   "cell_type": "code",
   "source": [
    "!curl -L \"https://universe.roboflow.com/ds/1k4k64XYDX?key=y6UaP0wZoS\" > roboflow.zip; unzip roboflow.zip; rm roboflow.zip"
   ],
   "metadata": {
    "trusted": true
   },
   "execution_count": null,
   "outputs": []
  },
  {
   "cell_type": "code",
   "source": [
    "!git clone https://github.com/WongKinYiu/yolov7\n",
    "%cd yolov7\n",
    "!pip install -r requirements.txt\n",
    "# download COCO starting checkpoint\n",
    "!wget \"https://github.com/WongKinYiu/yolov7/releases/download/v0.1/yolov7.pt\""
   ],
   "metadata": {
    "trusted": true
   },
   "execution_count": null,
   "outputs": []
  },
  {
   "cell_type": "code",
   "source": [
    "import shutil\n",
    "shutil.copy('/kaggle/input/temp05/yolov7custom.yaml','/kaggle/working/yolov7/cfg/training')\n",
    "shutil.copy('/kaggle/input/temp05/classes.names','/kaggle/working')\n",
    "shutil.copy('/kaggle/working/data.yaml','/kaggle/working/yolov7/data')\n"
   ],
   "metadata": {
    "execution": {
     "iopub.status.busy": "2023-02-16T08:21:35.910616Z",
     "iopub.execute_input": "2023-02-16T08:21:35.910926Z",
     "iopub.status.idle": "2023-02-16T08:21:35.937946Z",
     "shell.execute_reply.started": "2023-02-16T08:21:35.910895Z",
     "shell.execute_reply": "2023-02-16T08:21:35.937086Z"
    },
    "trusted": true
   },
   "execution_count": 4,
   "outputs": [
    {
     "execution_count": 4,
     "output_type": "execute_result",
     "data": {
      "text/plain": "'/kaggle/working/yolov7/data/data.yaml'"
     },
     "metadata": {}
    }
   ]
  },
  {
   "cell_type": "code",
   "source": [
    "!pip install torch==1.11.0+cu113 torchvision==0.12.0+cu113 torchaudio==0.11.0 --extra-index-url https://download.pytorch.org/whl/cu113"
   ],
   "metadata": {
    "execution": {
     "iopub.status.busy": "2023-02-16T08:21:35.940795Z",
     "iopub.execute_input": "2023-02-16T08:21:35.941068Z",
     "iopub.status.idle": "2023-02-16T08:23:03.804707Z",
     "shell.execute_reply.started": "2023-02-16T08:21:35.941044Z",
     "shell.execute_reply": "2023-02-16T08:23:03.803496Z"
    },
    "trusted": true
   },
   "execution_count": 5,
   "outputs": [
    {
     "name": "stdout",
     "text": "/bin/bash: /opt/conda/lib/libtinfo.so.6: no version information available (required by /bin/bash)\nLooking in indexes: https://pypi.org/simple, https://download.pytorch.org/whl/cu113\nCollecting torch==1.11.0+cu113\n  Downloading https://download.pytorch.org/whl/cu113/torch-1.11.0%2Bcu113-cp37-cp37m-linux_x86_64.whl (1637.0 MB)\n\u001B[2K     \u001B[90m━━━━━━━━━━━━━━━━━━━━━━━━━━━━━━━━━━━━━━━━\u001B[0m \u001B[32m1.6/1.6 GB\u001B[0m \u001B[31m578.8 kB/s\u001B[0m eta \u001B[36m0:00:00\u001B[0m00:01\u001B[0m00:01\u001B[0m\n\u001B[?25hCollecting torchvision==0.12.0+cu113\n  Downloading https://download.pytorch.org/whl/cu113/torchvision-0.12.0%2Bcu113-cp37-cp37m-linux_x86_64.whl (22.3 MB)\n\u001B[2K     \u001B[90m━━━━━━━━━━━━━━━━━━━━━━━━━━━━━━━━━━━━━━━━\u001B[0m \u001B[32m22.3/22.3 MB\u001B[0m \u001B[31m53.2 MB/s\u001B[0m eta \u001B[36m0:00:00\u001B[0m00:01\u001B[0m00:01\u001B[0m\n\u001B[?25hCollecting torchaudio==0.11.0\n  Downloading https://download.pytorch.org/whl/cu113/torchaudio-0.11.0%2Bcu113-cp37-cp37m-linux_x86_64.whl (2.9 MB)\n\u001B[2K     \u001B[90m━━━━━━━━━━━━━━━━━━━━━━━━━━━━━━━━━━━━━━━━\u001B[0m \u001B[32m2.9/2.9 MB\u001B[0m \u001B[31m73.0 MB/s\u001B[0m eta \u001B[36m0:00:00\u001B[0m:00:01\u001B[0m\n\u001B[?25hRequirement already satisfied: typing-extensions in /opt/conda/lib/python3.7/site-packages (from torch==1.11.0+cu113) (4.1.1)\nRequirement already satisfied: requests in /opt/conda/lib/python3.7/site-packages (from torchvision==0.12.0+cu113) (2.28.1)\nRequirement already satisfied: pillow!=8.3.*,>=5.3.0 in /opt/conda/lib/python3.7/site-packages (from torchvision==0.12.0+cu113) (9.2.0)\nRequirement already satisfied: numpy in /opt/conda/lib/python3.7/site-packages (from torchvision==0.12.0+cu113) (1.21.6)\nRequirement already satisfied: charset-normalizer<3,>=2 in /opt/conda/lib/python3.7/site-packages (from requests->torchvision==0.12.0+cu113) (2.1.1)\nRequirement already satisfied: urllib3<1.27,>=1.21.1 in /opt/conda/lib/python3.7/site-packages (from requests->torchvision==0.12.0+cu113) (1.26.11)\nRequirement already satisfied: certifi>=2017.4.17 in /opt/conda/lib/python3.7/site-packages (from requests->torchvision==0.12.0+cu113) (2022.12.7)\nRequirement already satisfied: idna<4,>=2.5 in /opt/conda/lib/python3.7/site-packages (from requests->torchvision==0.12.0+cu113) (3.3)\nInstalling collected packages: torch, torchvision, torchaudio\n  Attempting uninstall: torch\n    Found existing installation: torch 1.13.1\n    Uninstalling torch-1.13.1:\n      Successfully uninstalled torch-1.13.1\n  Attempting uninstall: torchvision\n    Found existing installation: torchvision 0.14.1\n    Uninstalling torchvision-0.14.1:\n      Successfully uninstalled torchvision-0.14.1\n  Attempting uninstall: torchaudio\n    Found existing installation: torchaudio 0.12.0\n    Uninstalling torchaudio-0.12.0:\n      Successfully uninstalled torchaudio-0.12.0\nSuccessfully installed torch-1.11.0+cu113 torchaudio-0.11.0+cu113 torchvision-0.12.0+cu113\n\u001B[33mWARNING: Running pip as the 'root' user can result in broken permissions and conflicting behaviour with the system package manager. It is recommended to use a virtual environment instead: https://pip.pypa.io/warnings/venv\u001B[0m\u001B[33m\n\u001B[0m",
     "output_type": "stream"
    }
   ]
  },
  {
   "cell_type": "code",
   "source": [
    "!wandb disabled\n",
    "!python train.py --batch-size 16 --img 640 640 --cfg cfg/training/yolov7custom.yaml --epochs 30 --data /kaggle/working/yolov7/data/data.yaml --weights 'runs/train/exp/weights/best.pt' --workers 8 --device 0"
   ],
   "metadata": {
    "execution": {
     "iopub.status.busy": "2023-02-16T09:14:43.983507Z",
     "iopub.execute_input": "2023-02-16T09:14:43.984080Z",
     "iopub.status.idle": "2023-02-16T09:42:46.998498Z",
     "shell.execute_reply.started": "2023-02-16T09:14:43.984016Z",
     "shell.execute_reply": "2023-02-16T09:42:46.997005Z"
    },
    "trusted": true
   },
   "execution_count": 14,
   "outputs": [
    {
     "name": "stdout",
     "text": "/bin/bash: /opt/conda/lib/libtinfo.so.6: no version information available (required by /bin/bash)\nW&B disabled.\n/bin/bash: /opt/conda/lib/libtinfo.so.6: no version information available (required by /bin/bash)\n/opt/conda/lib/python3.7/site-packages/torch/functional.py:568: UserWarning: torch.meshgrid: in an upcoming release, it will be required to pass the indexing argument. (Triggered internally at  ../aten/src/ATen/native/TensorShape.cpp:2228.)\n  return _VF.meshgrid(tensors, **kwargs)  # type: ignore[attr-defined]\n\u001B[34m\u001B[1mtrain: \u001B[0mScanning '../train/labels.cache' images and labels... 2028 found, 0 missi\u001B[0m\n\u001B[34m\u001B[1mval: \u001B[0mScanning '../valid/labels.cache' images and labels... 192 found, 0 missing,\u001B[0m\n\n\u001B[34m\u001B[1mautoanchor: \u001B[0mAnalyzing anchors... anchors/target = 3.52, Best Possible Recall (BPR) = 1.0000\n     18/29     11.9G   0.03376  0.005815   0.00457   0.04415        28       640\n               Class      Images      Labels           P           R      mAP@.5\n                 all         192         223       0.777       0.481       0.505       0.269\n     19/29     13.7G    0.0347  0.005575  0.004386   0.04466        23       640\n               Class      Images      Labels           P           R      mAP@.5\n                 all         192         223       0.652       0.544       0.421       0.272\n     20/29     13.7G   0.03722  0.005607  0.004857   0.04768        41       640\n               Class      Images      Labels           P           R      mAP@.5\n                 all         192         223       0.644       0.591       0.478       0.309\n     21/29     13.7G   0.03551  0.005644  0.004171   0.04532        37       640\n               Class      Images      Labels           P           R      mAP@.5\n                 all         192         223       0.679       0.573       0.508       0.298\n     22/29     13.7G   0.02838   0.00541   0.00347   0.03726        34       640\n               Class      Images      Labels           P           R      mAP@.5\n                 all         192         223       0.319       0.818       0.529       0.334\n     23/29     13.7G   0.03515  0.005722  0.004469   0.04534        36       640\n               Class      Images      Labels           P           R      mAP@.5\n                 all         192         223       0.747         0.5       0.515       0.298\n     24/29     13.7G   0.03315  0.005492  0.004289   0.04293        27       640\n               Class      Images      Labels           P           R      mAP@.5\n                 all         192         223       0.758       0.485         0.5       0.325\n     25/29     13.7G    0.0342  0.005576  0.004082   0.04385        38       640\n               Class      Images      Labels           P           R      mAP@.5\n                 all         192         223       0.666       0.541       0.516       0.343\n     26/29     13.7G   0.03325  0.005408  0.003873   0.04253        42       640\n               Class      Images      Labels           P           R      mAP@.5\n                 all         192         223       0.708       0.484       0.511        0.33\n     27/29     13.7G   0.03219  0.005503   0.00426   0.04195        31       640\n               Class      Images      Labels           P           R      mAP@.5\n                 all         192         223       0.697       0.498       0.517        0.34\n     28/29     13.7G    0.0345   0.00535  0.004315   0.04417        39       640\n               Class      Images      Labels           P           R      mAP@.5\n                 all         192         223       0.345       0.778       0.526       0.339\n     29/29     13.7G   0.03193  0.005416  0.003891   0.04124        32       640\n               Class      Images      Labels           P           R      mAP@.5\n                 all         192         223       0.386       0.778       0.528       0.342\n          Lymphocyte         192           6       0.499       0.333       0.257       0.158\n         Neutrophile         192         195       0.527           1       0.992        0.67\n              Platte         192          22       0.131           1       0.335       0.198\nOptimizer stripped from runs/train/exp3/weights/last.pt, 74.8MB\nOptimizer stripped from runs/train/exp3/weights/best.pt, 74.8MB\n",
     "output_type": "stream"
    }
   ]
  },
  {
   "cell_type": "code",
   "source": [
    "os.listdir('/kaggle/working/yolov7/runs/train/exp3')"
   ],
   "metadata": {
    "execution": {
     "iopub.status.busy": "2023-02-16T10:06:58.867880Z",
     "iopub.execute_input": "2023-02-16T10:06:58.868249Z",
     "iopub.status.idle": "2023-02-16T10:06:58.876675Z",
     "shell.execute_reply.started": "2023-02-16T10:06:58.868218Z",
     "shell.execute_reply": "2023-02-16T10:06:58.875729Z"
    },
    "trusted": true
   },
   "execution_count": 18,
   "outputs": [
    {
     "execution_count": 18,
     "output_type": "execute_result",
     "data": {
      "text/plain": "['R_curve.png',\n 'hyp.yaml',\n 'test_batch2_pred.jpg',\n 'P_curve.png',\n 'PR_curve.png',\n 'weights',\n 'results.txt',\n 'confusion_matrix.png',\n 'test_batch1_pred.jpg',\n 'opt.yaml',\n 'test_batch2_labels.jpg',\n 'results.png',\n 'test_batch1_labels.jpg',\n 'events.out.tfevents.1676538892.d9ebe0651486.2031.0',\n 'F1_curve.png',\n 'test_batch0_pred.jpg',\n 'test_batch0_labels.jpg']"
     },
     "metadata": {}
    }
   ]
  },
  {
   "cell_type": "code",
   "source": [
    "import os\n",
    "import zipfile\n",
    "folder = '/kaggle/working/yolov7/runs/train/exp3'\n",
    "zip_file = '/kaggle/working/output1.zip'\n",
    "zipf = zipfile.ZipFile(zip_file, 'w', zipfile.ZIP_DEFLATED)\n",
    "for root, dirs, files in os.walk(folder):\n",
    "    for file in files:\n",
    "        zipf.write(os.path.join(root, file))\n",
    "zipf.close()"
   ],
   "metadata": {
    "execution": {
     "iopub.status.busy": "2023-02-16T10:07:38.486366Z",
     "iopub.execute_input": "2023-02-16T10:07:38.487102Z",
     "iopub.status.idle": "2023-02-16T10:09:52.751531Z",
     "shell.execute_reply.started": "2023-02-16T10:07:38.487066Z",
     "shell.execute_reply": "2023-02-16T10:09:52.750460Z"
    },
    "trusted": true
   },
   "execution_count": 19,
   "outputs": []
  },
  {
   "cell_type": "code",
   "source": [
    "!pwd"
   ],
   "metadata": {
    "execution": {
     "iopub.status.busy": "2023-02-16T10:16:23.930912Z",
     "iopub.execute_input": "2023-02-16T10:16:23.932740Z",
     "iopub.status.idle": "2023-02-16T10:16:24.880268Z",
     "shell.execute_reply.started": "2023-02-16T10:16:23.932695Z",
     "shell.execute_reply": "2023-02-16T10:16:24.879113Z"
    },
    "trusted": true
   },
   "execution_count": 23,
   "outputs": [
    {
     "name": "stdout",
     "text": "/bin/bash: /opt/conda/lib/libtinfo.so.6: no version information available (required by /bin/bash)\n/kaggle/working\n",
     "output_type": "stream"
    }
   ]
  },
  {
   "cell_type": "code",
   "source": [
    "%cd .."
   ],
   "metadata": {
    "execution": {
     "iopub.status.busy": "2023-02-16T10:16:22.456625Z",
     "iopub.execute_input": "2023-02-16T10:16:22.457004Z",
     "iopub.status.idle": "2023-02-16T10:16:22.464057Z",
     "shell.execute_reply.started": "2023-02-16T10:16:22.456972Z",
     "shell.execute_reply": "2023-02-16T10:16:22.462788Z"
    },
    "trusted": true
   },
   "execution_count": 22,
   "outputs": [
    {
     "name": "stdout",
     "text": "/kaggle/working\n",
     "output_type": "stream"
    }
   ]
  },
  {
   "cell_type": "code",
   "source": [
    "from IPython.display import FileLink\n",
    "FileLink(r'output1.zip')"
   ],
   "metadata": {
    "execution": {
     "iopub.status.busy": "2023-02-16T10:20:10.444782Z",
     "iopub.execute_input": "2023-02-16T10:20:10.445202Z",
     "iopub.status.idle": "2023-02-16T10:20:10.454974Z",
     "shell.execute_reply.started": "2023-02-16T10:20:10.445169Z",
     "shell.execute_reply": "2023-02-16T10:20:10.453450Z"
    },
    "trusted": true
   },
   "execution_count": 29,
   "outputs": [
    {
     "execution_count": 29,
     "output_type": "execute_result",
     "data": {
      "text/plain": "/kaggle/working/output1.zip",
      "text/html": "<a href='output1.zip' target='_blank'>output1.zip</a><br>"
     },
     "metadata": {}
    }
   ]
  },
  {
   "cell_type": "code",
   "source": [],
   "metadata": {},
   "execution_count": null,
   "outputs": []
  }
 ]
}
